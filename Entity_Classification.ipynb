{
  "nbformat": 4,
  "nbformat_minor": 0,
  "metadata": {
    "colab": {
      "name": "Entity Classification.ipynb",
      "provenance": [],
      "collapsed_sections": [],
      "toc_visible": true,
      "include_colab_link": true
    },
    "kernelspec": {
      "name": "python3",
      "display_name": "Python 3"
    },
    "accelerator": "GPU"
  },
  "cells": [
    {
      "cell_type": "markdown",
      "metadata": {
        "id": "view-in-github",
        "colab_type": "text"
      },
      "source": [
        "<a href=\"https://colab.research.google.com/github/crazimon/github-slideshow/blob/master/Entity_Classification.ipynb\" target=\"_parent\"><img src=\"https://colab.research.google.com/assets/colab-badge.svg\" alt=\"Open In Colab\"/></a>"
      ]
    },
    {
      "cell_type": "markdown",
      "metadata": {
        "id": "eXiEVrpmtguk",
        "colab_type": "text"
      },
      "source": [
        "This notebook is intended to allow a user to run entity analysis on three URLs and understand differences in central topics covered by pieces of content. It is a tutorial implementation of Google's NLP entity Analysis API. \n",
        "\n",
        "For more guidance on how to run this, see here: https://sashadagayev.com/systematically-analyze-your-content-vs-competitor-content-and-make-actionable-improvements/\n",
        "\n",
        "To use this notebook - go to File > Save a Copy in Drive.\n"
      ]
    },
    {
      "cell_type": "code",
      "metadata": {
        "id": "_ygJDAflZzEz",
        "colab_type": "code",
        "colab": {}
      },
      "source": [
        "import os\n",
        "import json\n",
        "import urllib3\n",
        "import pandas as pd"
      ],
      "execution_count": null,
      "outputs": []
    },
    {
      "cell_type": "code",
      "metadata": {
        "id": "WZpFgSKoaFFh",
        "colab_type": "code",
        "colab": {}
      },
      "source": [
        "os.environ['GOOGLE_APPLICATION_CREDENTIALS'] = \"/content/nlp-colab.json\" #change to the name of your credentials. These can be obtained here:https://cloud.google.com/natural-language/docs/quickstart"
      ],
      "execution_count": null,
      "outputs": []
    },
    {
      "cell_type": "code",
      "metadata": {
        "id": "qkSW-0qyYlcP",
        "colab_type": "code",
        "colab": {}
      },
      "source": [
        "# Imports the Google Cloud client library\n",
        "from google.cloud import language\n",
        "from google.cloud.language import enums\n",
        "from google.cloud.language import types\n",
        "from google.cloud import language_v1\n",
        "from google.cloud.language_v1 import enums\n",
        "\n",
        "# Instantiates a client\n",
        "\n",
        "client = language.LanguageServiceClient()"
      ],
      "execution_count": null,
      "outputs": []
    },
    {
      "cell_type": "markdown",
      "metadata": {
        "id": "4XCGW9btPE-9",
        "colab_type": "text"
      },
      "source": [
        "This is the default sentiment analysis method recommended by Google. It is currently set up to take in an HTML response from a page."
      ]
    },
    {
      "cell_type": "code",
      "metadata": {
        "colab_type": "code",
        "id": "zndJdEyupb39",
        "colab": {}
      },
      "source": [
        "def sample_analyze_entities(html_content):\n",
        "    client = language_v1.LanguageServiceClient()\n",
        "\n",
        "    # Available types: PLAIN_TEXT, HTML\n",
        "    type_ = enums.Document.Type.HTML #you can change this to be just text; doesn't have to be HTML.\n",
        "\n",
        "    # Optional. If not specified, the language is automatically detected.\n",
        "    # For list of supported languages:\n",
        "    # https://cloud.google.com/natural-language/docs/languages\n",
        "    language = \"en\"\n",
        "    document = {\"content\": html_content, \"type\": type_, \"language\": language}\n",
        "\n",
        "    # Available values: NONE, UTF8, UTF16, UTF32\n",
        "    encoding_type = enums.EncodingType.UTF8\n",
        "\n",
        "    response = client.analyze_entities(document, encoding_type=encoding_type)\n",
        "    return response\n"
      ],
      "execution_count": null,
      "outputs": []
    },
    {
      "cell_type": "code",
      "metadata": {
        "id": "s3WCBz3bp582",
        "colab_type": "code",
        "colab": {}
      },
      "source": [
        "def return_entity_dataframe(response):\n",
        "  output = sample_analyze_entities(response.data)\n",
        "  output_list = []\n",
        "  for entity in output.entities:\n",
        "    entity_dict = {}\n",
        "    entity_dict['entity_name'] = entity.name\n",
        "    entity_dict['entity_type'] = enums.Entity.Type(entity.type).name\n",
        "    entity_dict['entity_salience('+response._request_url+')'] = entity.salience\n",
        "    entity_dict['entity_number_of_mentions('+response._request_url+')'] = len(entity.mentions)\n",
        "    output_list.append(entity_dict)\n",
        "  json_entity_analysis = json.dumps(output_list)\n",
        "  df = pd.read_json(json_entity_analysis)\n",
        "  summed_df = df.groupby(['entity_name']).sum()\n",
        "  summed_df.sort_values(by=['entity_salience('+response._request_url+')'], ascending=False)\n",
        "  return summed_df"
      ],
      "execution_count": null,
      "outputs": []
    },
    {
      "cell_type": "markdown",
      "metadata": {
        "id": "-NTBzXHwQpxG",
        "colab_type": "text"
      },
      "source": [
        "\n",
        "\n",
        "```\n",
        "# This is formatted as code\n",
        "```\n",
        "\n",
        "# Swap out your URLs HERE!!!\n"
      ]
    },
    {
      "cell_type": "code",
      "metadata": {
        "id": "VzGTE1O7lUfz",
        "colab_type": "code",
        "colab": {
          "base_uri": "https://localhost:8080/",
          "height": 145
        },
        "outputId": "252039d5-934b-4442-ab4c-28ea260798f1"
      },
      "source": [
        "http = urllib3.PoolManager()\n",
        "response1 = http.request('GET','https://en.wikipedia.org/wiki/Search_engine_optimization')\n",
        "response2 = http.request('GET','http://mozseoclass.com/who-is-the-smartest-seo/')\n",
        "response3 = http.request('GET','https://hookagency.com/who-is-the-smartest-seo-in-the-world/')\n",
        "response4 = http.request('GET','https://hookagency.com/who-is-the-smartest-seo-in-the-world/')"
      ],
      "execution_count": null,
      "outputs": [
        {
          "output_type": "stream",
          "text": [
            "/usr/local/lib/python3.6/dist-packages/urllib3/connectionpool.py:847: InsecureRequestWarning: Unverified HTTPS request is being made. Adding certificate verification is strongly advised. See: https://urllib3.readthedocs.io/en/latest/advanced-usage.html#ssl-warnings\n",
            "  InsecureRequestWarning)\n",
            "/usr/local/lib/python3.6/dist-packages/urllib3/connectionpool.py:847: InsecureRequestWarning: Unverified HTTPS request is being made. Adding certificate verification is strongly advised. See: https://urllib3.readthedocs.io/en/latest/advanced-usage.html#ssl-warnings\n",
            "  InsecureRequestWarning)\n",
            "/usr/local/lib/python3.6/dist-packages/urllib3/connectionpool.py:847: InsecureRequestWarning: Unverified HTTPS request is being made. Adding certificate verification is strongly advised. See: https://urllib3.readthedocs.io/en/latest/advanced-usage.html#ssl-warnings\n",
            "  InsecureRequestWarning)\n"
          ],
          "name": "stderr"
        }
      ]
    },
    {
      "cell_type": "code",
      "metadata": {
        "id": "Jl0oeZM3sBBe",
        "colab_type": "code",
        "colab": {}
      },
      "source": [
        "url1_analysis = return_entity_dataframe(response1)\n",
        "url2_analysis = return_entity_dataframe(response2)\n",
        "url3_analysis = return_entity_dataframe(response3)"
      ],
      "execution_count": null,
      "outputs": []
    },
    {
      "cell_type": "markdown",
      "metadata": {
        "id": "mo1zly_LQ9qt",
        "colab_type": "text"
      },
      "source": [
        "These functions here join all of the entity results into one giant table so that it can be easier for the users to review results and compare. "
      ]
    },
    {
      "cell_type": "code",
      "metadata": {
        "id": "wkHg_k2MyJF8",
        "colab_type": "code",
        "colab": {}
      },
      "source": [
        "url1and2 = url1_analysis.merge(url2_analysis,how='outer', left_on='entity_name', right_on=\"entity_name\")\n",
        "url1and2and3 = url1and2.merge(url3_analysis,how='outer', left_on='entity_name', right_on=\"entity_name\")"
      ],
      "execution_count": null,
      "outputs": []
    },
    {
      "cell_type": "code",
      "metadata": {
        "id": "DNMTixY-yHiq",
        "colab_type": "code",
        "colab": {
          "base_uri": "https://localhost:8080/",
          "height": 521
        },
        "outputId": "456c9273-5b44-4389-a3a5-d45e925486f7"
      },
      "source": [
        "url1and2and3.sort_values(by=['entity_salience('+response1._request_url+')'], ascending=False)"
      ],
      "execution_count": null,
      "outputs": [
        {
          "output_type": "execute_result",
          "data": {
            "text/html": [
              "<div>\n",
              "<style scoped>\n",
              "    .dataframe tbody tr th:only-of-type {\n",
              "        vertical-align: middle;\n",
              "    }\n",
              "\n",
              "    .dataframe tbody tr th {\n",
              "        vertical-align: top;\n",
              "    }\n",
              "\n",
              "    .dataframe thead th {\n",
              "        text-align: right;\n",
              "    }\n",
              "</style>\n",
              "<table border=\"1\" class=\"dataframe\">\n",
              "  <thead>\n",
              "    <tr style=\"text-align: right;\">\n",
              "      <th></th>\n",
              "      <th>entity_salience(https://en.wikipedia.org/wiki/Search_engine_optimization)</th>\n",
              "      <th>entity_number_of_mentions(https://en.wikipedia.org/wiki/Search_engine_optimization)</th>\n",
              "      <th>entity_salience(http://mozseoclass.com/who-is-the-smartest-seo/)</th>\n",
              "      <th>entity_number_of_mentions(http://mozseoclass.com/who-is-the-smartest-seo/)</th>\n",
              "      <th>entity_salience(https://hookagency.com/who-is-the-smartest-seo-in-the-world/)</th>\n",
              "      <th>entity_number_of_mentions(https://hookagency.com/who-is-the-smartest-seo-in-the-world/)</th>\n",
              "    </tr>\n",
              "    <tr>\n",
              "      <th>entity_name</th>\n",
              "      <th></th>\n",
              "      <th></th>\n",
              "      <th></th>\n",
              "      <th></th>\n",
              "      <th></th>\n",
              "      <th></th>\n",
              "    </tr>\n",
              "  </thead>\n",
              "  <tbody>\n",
              "    <tr>\n",
              "      <th>Google</th>\n",
              "      <td>0.450027</td>\n",
              "      <td>72.0</td>\n",
              "      <td>0.037636</td>\n",
              "      <td>7.0</td>\n",
              "      <td>0.001241</td>\n",
              "      <td>6.0</td>\n",
              "    </tr>\n",
              "    <tr>\n",
              "      <th>search engines</th>\n",
              "      <td>0.082046</td>\n",
              "      <td>33.0</td>\n",
              "      <td>NaN</td>\n",
              "      <td>NaN</td>\n",
              "      <td>0.000236</td>\n",
              "      <td>1.0</td>\n",
              "    </tr>\n",
              "    <tr>\n",
              "      <th>Stats Show Google</th>\n",
              "      <td>0.050376</td>\n",
              "      <td>13.0</td>\n",
              "      <td>NaN</td>\n",
              "      <td>NaN</td>\n",
              "      <td>NaN</td>\n",
              "      <td>NaN</td>\n",
              "    </tr>\n",
              "    <tr>\n",
              "      <th>Wikipedia</th>\n",
              "      <td>0.033818</td>\n",
              "      <td>12.0</td>\n",
              "      <td>NaN</td>\n",
              "      <td>NaN</td>\n",
              "      <td>NaN</td>\n",
              "      <td>NaN</td>\n",
              "    </tr>\n",
              "    <tr>\n",
              "      <th>search engine</th>\n",
              "      <td>0.018523</td>\n",
              "      <td>13.0</td>\n",
              "      <td>NaN</td>\n",
              "      <td>NaN</td>\n",
              "      <td>NaN</td>\n",
              "      <td>NaN</td>\n",
              "    </tr>\n",
              "    <tr>\n",
              "      <th>...</th>\n",
              "      <td>...</td>\n",
              "      <td>...</td>\n",
              "      <td>...</td>\n",
              "      <td>...</td>\n",
              "      <td>...</td>\n",
              "      <td>...</td>\n",
              "    </tr>\n",
              "    <tr>\n",
              "      <th>winner</th>\n",
              "      <td>NaN</td>\n",
              "      <td>NaN</td>\n",
              "      <td>NaN</td>\n",
              "      <td>NaN</td>\n",
              "      <td>0.000073</td>\n",
              "      <td>1.0</td>\n",
              "    </tr>\n",
              "    <tr>\n",
              "      <th>wins</th>\n",
              "      <td>NaN</td>\n",
              "      <td>NaN</td>\n",
              "      <td>NaN</td>\n",
              "      <td>NaN</td>\n",
              "      <td>0.000412</td>\n",
              "      <td>2.0</td>\n",
              "    </tr>\n",
              "    <tr>\n",
              "      <th>world battle</th>\n",
              "      <td>NaN</td>\n",
              "      <td>NaN</td>\n",
              "      <td>NaN</td>\n",
              "      <td>NaN</td>\n",
              "      <td>0.000255</td>\n",
              "      <td>1.0</td>\n",
              "    </tr>\n",
              "    <tr>\n",
              "      <th>world title</th>\n",
              "      <td>NaN</td>\n",
              "      <td>NaN</td>\n",
              "      <td>NaN</td>\n",
              "      <td>NaN</td>\n",
              "      <td>0.000280</td>\n",
              "      <td>1.0</td>\n",
              "    </tr>\n",
              "    <tr>\n",
              "      <th>👏👏👏</th>\n",
              "      <td>NaN</td>\n",
              "      <td>NaN</td>\n",
              "      <td>NaN</td>\n",
              "      <td>NaN</td>\n",
              "      <td>0.000135</td>\n",
              "      <td>1.0</td>\n",
              "    </tr>\n",
              "  </tbody>\n",
              "</table>\n",
              "<p>1557 rows × 6 columns</p>\n",
              "</div>"
            ],
            "text/plain": [
              "                   entity_salience(https://en.wikipedia.org/wiki/Search_engine_optimization)  ...  entity_number_of_mentions(https://hookagency.com/who-is-the-smartest-seo-in-the-world/)\n",
              "entity_name                                                                                   ...                                                                                         \n",
              "Google                                                      0.450027                          ...                                                6.0                                      \n",
              "search engines                                              0.082046                          ...                                                1.0                                      \n",
              "Stats Show Google                                           0.050376                          ...                                                NaN                                      \n",
              "Wikipedia                                                   0.033818                          ...                                                NaN                                      \n",
              "search engine                                               0.018523                          ...                                                NaN                                      \n",
              "...                                                              ...                          ...                                                ...                                      \n",
              "winner                                                           NaN                          ...                                                1.0                                      \n",
              "wins                                                             NaN                          ...                                                2.0                                      \n",
              "world battle                                                     NaN                          ...                                                1.0                                      \n",
              "world title                                                      NaN                          ...                                                1.0                                      \n",
              "👏👏👏                                                              NaN                          ...                                                1.0                                      \n",
              "\n",
              "[1557 rows x 6 columns]"
            ]
          },
          "metadata": {
            "tags": []
          },
          "execution_count": 10
        }
      ]
    },
    {
      "cell_type": "code",
      "metadata": {
        "id": "VmSEh9_H0-ZQ",
        "colab_type": "code",
        "colab": {}
      },
      "source": [
        "url1and2and3.to_csv('x-entities.csv')"
      ],
      "execution_count": null,
      "outputs": []
    },
    {
      "cell_type": "code",
      "metadata": {
        "id": "zEVldKTVHkwV",
        "colab_type": "code",
        "colab": {}
      },
      "source": [
        ""
      ],
      "execution_count": null,
      "outputs": []
    }
  ]
}